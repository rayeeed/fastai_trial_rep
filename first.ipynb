{
 "cells": [
  {
   "cell_type": "markdown",
   "id": "5b05592d-fd73-46a4-8fc4-5132bf0c5ecb",
   "metadata": {},
   "source": [
    "new tryyy\n"
   ]
  },
  {
   "cell_type": "code",
   "execution_count": null,
   "id": "2320d3cb-d31d-4c5f-896e-44919ad71529",
   "metadata": {},
   "outputs": [],
   "source": []
  }
 ],
 "metadata": {
  "kernelspec": {
   "display_name": "Python 3 (ipykernel)",
   "language": "python",
   "name": "python3"
  },
  "language_info": {
   "codemirror_mode": {
    "name": "ipython",
    "version": 3
   },
   "file_extension": ".py",
   "mimetype": "text/x-python",
   "name": "python",
   "nbconvert_exporter": "python",
   "pygments_lexer": "ipython3",
   "version": "3.10.12"
  }
 },
 "nbformat": 4,
 "nbformat_minor": 5
}
